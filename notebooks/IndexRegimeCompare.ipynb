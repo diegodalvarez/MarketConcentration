{
 "cells": [
  {
   "cell_type": "markdown",
   "id": "5a910e28-2bcc-4c4f-8b4b-09a498be65e1",
   "metadata": {},
   "source": [
    "# Index Compare Regime"
   ]
  },
  {
   "cell_type": "markdown",
   "id": "ab1d07ea-dbe9-4704-855e-443acfb4c855",
   "metadata": {},
   "source": [
    "The idea is that we'll compare the relative indices by using the z-score regime method"
   ]
  },
  {
   "cell_type": "markdown",
   "id": "af639b9b-0fe8-41c5-9778-7ae58a38be42",
   "metadata": {},
   "source": [
    "# Packages"
   ]
  },
  {
   "cell_type": "code",
   "execution_count": 1,
   "id": "01cd9a62-56c7-408b-9de4-e3119709e4bd",
   "metadata": {},
   "outputs": [],
   "source": [
    "import os \n",
    "import numpy as np\n",
    "import pandas as pd\n",
    "import matplotlib.pyplot as plt"
   ]
  },
  {
   "cell_type": "markdown",
   "id": "941c1e43-35ba-4af2-bb22-990b404b93c5",
   "metadata": {},
   "source": [
    "# Read Data"
   ]
  },
  {
   "cell_type": "code",
   "execution_count": 4,
   "id": "2ad26faa-9e6e-43fa-8feb-c1332d791713",
   "metadata": {},
   "outputs": [],
   "source": [
    "parent_path = os.path.abspath(os.path.join(os.getcwd(), os.pardir))\n",
    "data_path = os.path.join(os.path.join(parent_path, \"data\"))\n",
    "\n",
    "prices_path = os.path.join(data_path, \"dm_prices.parquet\")\n",
    "rtns_path = os.path.join(data_path, \"rtns.parquet\")\n",
    "\n",
    "df_prices_raw = pd.read_parquet(path = prices_path, engine = \"pyarrow\")\n",
    "df_rtns_raw = pd.read_parquet(path = rtns_path, engine = \"pyarrow\")"
   ]
  },
  {
   "cell_type": "markdown",
   "id": "458b5baf-302c-4e06-96c9-3df6acf051c6",
   "metadata": {},
   "source": [
    "# Split Returns by Regime"
   ]
  },
  {
   "cell_type": "code",
   "execution_count": 38,
   "id": "1aff561b-109b-42a9-a6d2-e5c7d71d2afb",
   "metadata": {},
   "outputs": [
    {
     "data": {
      "text/html": [
       "<div>\n",
       "<style scoped>\n",
       "    .dataframe tbody tr th:only-of-type {\n",
       "        vertical-align: middle;\n",
       "    }\n",
       "\n",
       "    .dataframe tbody tr th {\n",
       "        vertical-align: top;\n",
       "    }\n",
       "\n",
       "    .dataframe thead th {\n",
       "        text-align: right;\n",
       "    }\n",
       "</style>\n",
       "<table border=\"1\" class=\"dataframe\">\n",
       "  <thead>\n",
       "    <tr style=\"text-align: right;\">\n",
       "      <th></th>\n",
       "      <th>count</th>\n",
       "      <th>min</th>\n",
       "      <th>max</th>\n",
       "    </tr>\n",
       "    <tr>\n",
       "      <th>ticker</th>\n",
       "      <th></th>\n",
       "      <th></th>\n",
       "      <th></th>\n",
       "    </tr>\n",
       "  </thead>\n",
       "  <tbody>\n",
       "    <tr>\n",
       "      <th>EQAL</th>\n",
       "      <td>2211</td>\n",
       "      <td>2014-12-24</td>\n",
       "      <td>2023-10-06</td>\n",
       "    </tr>\n",
       "    <tr>\n",
       "      <th>EQWS</th>\n",
       "      <td>3079</td>\n",
       "      <td>2006-12-01</td>\n",
       "      <td>2019-02-27</td>\n",
       "    </tr>\n",
       "    <tr>\n",
       "      <th>IWB</th>\n",
       "      <td>5883</td>\n",
       "      <td>2000-05-19</td>\n",
       "      <td>2023-10-06</td>\n",
       "    </tr>\n",
       "    <tr>\n",
       "      <th>IWM</th>\n",
       "      <td>5878</td>\n",
       "      <td>2000-05-26</td>\n",
       "      <td>2023-10-06</td>\n",
       "    </tr>\n",
       "    <tr>\n",
       "      <th>IWV</th>\n",
       "      <td>5878</td>\n",
       "      <td>2000-05-26</td>\n",
       "      <td>2023-10-06</td>\n",
       "    </tr>\n",
       "    <tr>\n",
       "      <th>QQQ</th>\n",
       "      <td>6186</td>\n",
       "      <td>1999-03-10</td>\n",
       "      <td>2023-10-06</td>\n",
       "    </tr>\n",
       "    <tr>\n",
       "      <th>RSP</th>\n",
       "      <td>5145</td>\n",
       "      <td>2003-05-01</td>\n",
       "      <td>2023-10-06</td>\n",
       "    </tr>\n",
       "    <tr>\n",
       "      <th>SPY</th>\n",
       "      <td>7728</td>\n",
       "      <td>1993-01-29</td>\n",
       "      <td>2023-10-06</td>\n",
       "    </tr>\n",
       "  </tbody>\n",
       "</table>\n",
       "</div>"
      ],
      "text/plain": [
       "        count        min        max\n",
       "ticker                             \n",
       "EQAL     2211 2014-12-24 2023-10-06\n",
       "EQWS     3079 2006-12-01 2019-02-27\n",
       "IWB      5883 2000-05-19 2023-10-06\n",
       "IWM      5878 2000-05-26 2023-10-06\n",
       "IWV      5878 2000-05-26 2023-10-06\n",
       "QQQ      6186 1999-03-10 2023-10-06\n",
       "RSP      5145 2003-05-01 2023-10-06\n",
       "SPY      7728 1993-01-29 2023-10-06"
      ]
     },
     "execution_count": 38,
     "metadata": {},
     "output_type": "execute_result"
    }
   ],
   "source": [
    "(df_prices_raw.query(\n",
    "    \"variable_0 == 'Adj Close'\").\n",
    "    dropna().\n",
    "    drop(columns = [\"value\", \"variable_0\"]).\n",
    "    rename(columns = {\"variable_1\": \"ticker\"}).\n",
    "    groupby(\"ticker\").\n",
    "    agg([\"count\", \"min\", \"max\"])\n",
    "    [\"Date\"])"
   ]
  },
  {
   "cell_type": "code",
   "execution_count": 17,
   "id": "eca0d464-6551-4c65-a661-4603cd393483",
   "metadata": {},
   "outputs": [],
   "source": [
    "df_rtns = (df_rtns_raw.assign(\n",
    "    z_score = lambda x: np.sign(x.z_score.shift(1))).\n",
    "    dropna()\n",
    "    [[\"z_score\"]].\n",
    "    reset_index())"
   ]
  },
  {
   "cell_type": "code",
   "execution_count": 76,
   "id": "1a13d065-2c2d-4c7e-af2e-91647b21eeff",
   "metadata": {},
   "outputs": [],
   "source": [
    "stats = [\"mean\", \"std\", \"skew\"]\n",
    "\n",
    "df_stats = (df_prices_raw.query(\n",
    "    \"variable_0 == 'Adj Close'\").\n",
    "    drop(columns = [\"variable_0\"]).\n",
    "    rename(columns = {\"variable_1\": \"ticker\"}).\n",
    "    pivot(index = \"Date\", columns = \"ticker\", values = \"value\").\n",
    "    pct_change().\n",
    "    reset_index().\n",
    "    melt(id_vars = \"Date\").\n",
    "    assign(value = lambda x: x.value * 100).\n",
    "    merge(right = df_rtns, how = \"inner\", on = [\"Date\"]).\n",
    "    groupby([\"ticker\", \"z_score\"]).\n",
    "    agg(stats)\n",
    "    [\"value\"].\n",
    "    reset_index().\n",
    "    pivot(index = \"z_score\", columns = \"ticker\", values = stats))"
   ]
  },
  {
   "cell_type": "code",
   "execution_count": 77,
   "id": "cf448de4-3ce3-4990-816e-6ab77365a9d5",
   "metadata": {},
   "outputs": [
    {
     "data": {
      "image/png": "[encoded data removed]",
      "text/plain": [
       "<Figure size 1440x432 with 3 Axes>"
      ]
     },
     "metadata": {
      "needs_background": "light"
     },
     "output_type": "display_data"
    }
   ],
   "source": [
    "fig, axes = plt.subplots(ncols = 3, figsize = (20,6))\n",
    "for i, stat in enumerate(stats):\n",
    "    \n",
    "    (df_stats[\n",
    "        stat].\n",
    "        plot(\n",
    "            ax = axes[i],\n",
    "            kind = \"bar\",\n",
    "            title = stat,\n",
    "            legend = False,\n",
    "            xlabel = \"Z Score\",\n",
    "            ylabel = \"%\"))\n",
    "    \n",
    "fig.suptitle(\"Z-Score Regime Indicator from {} to {}\".format(df_rtns.Date.min().date(), df_rtns.Date.max().date()))\n",
    "plt.show()"
   ]
  }
 ],
 "metadata": {
  "kernelspec": {
   "display_name": "Python 3 (ipykernel)",
   "language": "python",
   "name": "python3"
  },
  "language_info": {
   "codemirror_mode": {
    "name": "ipython",
    "version": 3
   },
   "file_extension": ".py",
   "mimetype": "text/x-python",
   "name": "python",
   "nbconvert_exporter": "python",
   "pygments_lexer": "ipython3",
   "version": "3.8.5"
  }
 },
 "nbformat": 4,
 "nbformat_minor": 5
}
